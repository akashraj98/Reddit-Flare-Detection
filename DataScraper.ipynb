{
 "cells": [
  {
   "cell_type": "code",
   "execution_count": 2,
   "metadata": {},
   "outputs": [],
   "source": [
    "import pandas as pd\n",
    "import requests\n",
    "import json\n",
    "import csv\n",
    "import time\n",
    "import datetime\n"
   ]
  },
  {
   "cell_type": "code",
   "execution_count": 4,
   "metadata": {},
   "outputs": [],
   "source": [
    "\n",
    "url = \"https://api.pushshift.io/reddit/search/submission\"\n",
    "\n",
    "\n",
    "params = {\n",
    "'subreddit': 'india',\n",
    "'size': '1000',\n",
    "'fields': ['title','created_utc','url','thumbnail','full_link','over_18','author_flair_text','scorer'],\n",
    "'before' : ''\n",
    "}\n",
    "# response = requests.get(url,params=params)\n",
    "# print(response.url)\n",
    "\n",
    "# print(response.text.encode('utf8'))"
   ]
  },
  {
   "cell_type": "code",
   "execution_count": null,
   "metadata": {},
   "outputs": [],
   "source": [
    "def collectsubdata(data):\n",
    "    \n",
    "    "
   ]
  },
  {
   "cell_type": "code",
   "execution_count": null,
   "metadata": {},
   "outputs": [],
   "source": [
    "while True:\n",
    "    response=requests.get(url,params=params)\n",
    "    res_data = json.loads(response.text)\n",
    "    collectsubdata(res_data['data'][0])\n",
    "    if response.before =='' or  :\n",
    "        break"
   ]
  }
 ],
 "metadata": {
  "kernelspec": {
   "display_name": "Python 3",
   "language": "python",
   "name": "python3"
  },
  "language_info": {
   "codemirror_mode": {
    "name": "ipython",
    "version": 3
   },
   "file_extension": ".py",
   "mimetype": "text/x-python",
   "name": "python",
   "nbconvert_exporter": "python",
   "pygments_lexer": "ipython3",
   "version": "3.7.4"
  }
 },
 "nbformat": 4,
 "nbformat_minor": 2
}
