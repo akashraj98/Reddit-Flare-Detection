{
 "cells": [
  {
   "cell_type": "code",
   "execution_count": 1,
   "metadata": {},
   "outputs": [],
   "source": [
    "import pandas as pd\n",
    "import requests\n",
    "import json\n",
    "import csv\n",
    "import time\n",
    "import datetime\n"
   ]
  },
  {
   "cell_type": "code",
   "execution_count": 2,
   "metadata": {},
   "outputs": [
    {
     "name": "stdout",
     "output_type": "stream",
     "text": [
      "https://api.pushshift.io/reddit/search/submission?subreddit=india&size=1000&fields=title&fields=created_utc&fields=url&fields=thumbnail&fields=full_link&fields=over_18&fields=author_flair_text&fields=scorer&before=\n"
     ]
    }
   ],
   "source": [
    "\n",
    "url = \"https://api.pushshift.io/reddit/search/submission\"\n",
    "\n",
    "params = {\n",
    "'subreddit': 'india',\n",
    "'size': '1000',\n",
    "'fields': ['title','created_utc','url','thumbnail','full_link','over_18','author_flair_text','scorer'],\n",
    "'before' : ''\n",
    "}\n",
    "response = requests.get(url,params=params)\n",
    "print(response.url)\n",
    "res_data = json.loads(response.text)\n",
    "\n",
    "\n"
   ]
  },
  {
   "cell_type": "code",
   "execution_count": null,
   "metadata": {},
   "outputs": [],
   "source": []
  },
  {
   "cell_type": "code",
   "execution_count": 3,
   "metadata": {},
   "outputs": [],
   "source": [
    "def collectSubData(subm):\n",
    "    subData = list() #list to store data points\n",
    "    title = subm['title']\n",
    "    url = subm['url']\n",
    "    try:\n",
    "        flair = subm['link_flair_text']\n",
    "    except KeyError:\n",
    "        flair = \"NaN\"    \n",
    "    author = subm['author']\n",
    "    sub_id = subm['id']\n",
    "    score = subm['score']\n",
    "    created = datetime.datetime.fromtimestamp(subm['created_utc']) #1520561700.0\n",
    "    numComms = subm['num_comments']\n",
    "    permalink = subm['permalink']\n",
    "    \n",
    "    subData.append((sub_id,title,url,author,score,created,numComms,permalink,flair))\n",
    "    subStats[sub_id] = subData"
   ]
  },
  {
   "cell_type": "code",
   "execution_count": 4,
   "metadata": {},
   "outputs": [
    {
     "name": "stdout",
     "output_type": "stream",
     "text": [
      "{'author_flair_text': None, 'created_utc': 1588231226, 'full_link': 'https://www.reddit.com/r/india/comments/gar27d/irrfan_khan19672020/', 'over_18': False, 'thumbnail': 'https://b.thumbs.redditmedia.com/MJN8-uka7ed2kVmp0rADDHSThdKdxpl0q561AamGxes.jpg', 'title': 'Irrfan khan(1967-2020)', 'url': 'https://i.redd.it/5238b4yuowv41.jpg'}\n",
      "{'author_flair_text': None, 'created_utc': 1588087692, 'full_link': 'https://www.reddit.com/r/india/comments/g9p98n/oc_minimalist_metro_maps_for_operational_indian/', 'over_18': False, 'thumbnail': 'https://b.thumbs.redditmedia.com/ZOj4hRzqzjXDwKGbIjI2Aq88O8DSOglOnaITcy1iB3A.jpg', 'title': '[OC] Minimalist Metro Maps for operational Indian Metro Systems (as of April 2020)', 'url': 'https://i.redd.it/5g4thpsrtkv41.png'}\n",
      "{'author_flair_text': None, 'created_utc': 1587913931, 'full_link': 'https://www.reddit.com/r/india/comments/g8fykn/helo_barred_anti_chinese_government_content/', 'over_18': False, 'thumbnail': 'https://b.thumbs.redditmedia.com/0z3mMLs9iQprJYZhzWZpI7108fI6BQm618oYnjWHXcw.jpg', 'title': 'Helo barred anti Chinese government content, company says no restriction now', 'url': 'https://www.outlookindia.com/newsscroll/helo-barred-antichinese-content-company-says-no-restriction-now/1815396'}\n",
      "{'author_flair_text': None, 'created_utc': 1587715521, 'full_link': 'https://www.reddit.com/r/india/comments/g74hg7/88_hit_guj_6th_in_spread_of_virus/', 'over_18': False, 'thumbnail': 'https://a.thumbs.redditmedia.com/XU3QFrdRkG0KJXtYVCjpUjv9Vexzu1GzJMSNnbukmu8.jpg', 'title': '88% hit: Guj 6th in spread of virus', 'url': 'https://ahmedabadmirror.indiatimes.com/ahmedabad/others/88-hit-guj-6th-in-spread-of-virus/articleshow/75336106.cms'}\n",
      "{'author_flair_text': None, 'created_utc': 1587534801, 'full_link': 'https://www.reddit.com/r/india/comments/g5vnnq/if_every_state_in_india_was_a_country/', 'over_18': False, 'thumbnail': 'https://b.thumbs.redditmedia.com/weu1Ip-uNtErMt0NwbC3y5FoG3yKC9OpV0_5gHo2uFo.jpg', 'title': 'If every state in india was a country', 'url': 'https://i.redd.it/dtao4qfi6bu41.jpg'}\n",
      "{'author_flair_text': None, 'created_utc': 1587366592, 'full_link': 'https://www.reddit.com/r/india/comments/g4o4dm/centre_writes_to_kerala_says_state_cant_dilute/', 'over_18': False, 'thumbnail': 'default', 'title': \"Centre writes to Kerala, says state can't dilute lockdown guidelines\", 'url': 'https://www.thenewsminute.com/article/centre-writes-kerala-says-state-cant-dilute-lockdown-guidelines-122933?amp&amp;__twitter_impression=true'}\n",
      "{'author_flair_text': None, 'created_utc': 1587208563, 'full_link': 'https://www.reddit.com/r/india/comments/g3lwva/to_the_police_officers_from_mumbai_who_are_out/', 'over_18': False, 'thumbnail': 'default', 'title': 'To the police officers from Mumbai who are out there. Good work in your reaction. We need to see more of this when misbehaved during these times.', 'url': 'https://v.redd.it/v9umpru98kt41'}\n",
      "{'author_flair_text': None, 'created_utc': 1587042246, 'full_link': 'https://www.reddit.com/r/india/comments/g2eibi/nsfw/', 'over_18': True, 'thumbnail': 'default', 'title': 'NSFW 😂', 'url': 'https://i.redd.it/7dvh9q7uh6t41.png'}\n",
      "{'author_flair_text': None, 'created_utc': 1586870684, 'full_link': 'https://www.reddit.com/r/india/comments/g15gus/my_frien_mr_dolaan_trump/', 'over_18': False, 'thumbnail': 'default', 'title': 'My frien, Mr. Dolaan trump', 'url': 'https://i.redd.it/mdsggj1rbss41.jpg'}\n",
      "{'author_flair_text': 'Punjab', 'created_utc': 1586708107, 'full_link': 'https://www.reddit.com/r/india/comments/fzzif5/punjab_police_officers_severed_hand_reimplemented/', 'over_18': False, 'thumbnail': 'default', 'title': \"Punjab Police officer's severed hand re-implemented\", 'url': 'https://www.outlookindia.com/newsscroll/punjab-police-officers-severed-hand-reimplemented/1800175'}\n",
      "{'author_flair_text': None, 'created_utc': 1586545895, 'full_link': 'https://www.reddit.com/r/india/comments/fymgkr/the_covid19_vaccine_development_landscape/', 'over_18': False, 'thumbnail': 'https://b.thumbs.redditmedia.com/UTnZxC8KPL_zVUhjX2n9B1bOSLY_z3WNFz7e8kjRt3Y.jpg', 'title': 'The COVID-19 vaccine development landscape', 'url': 'https://www.nature.com/articles/d41573-020-00073-5'}\n",
      "{'author_flair_text': None, 'created_utc': 1586378792, 'full_link': 'https://www.reddit.com/r/india/comments/fxeilr/i_made_a_powerpoint_on_guru_randhawas_song_this/', 'over_18': False, 'thumbnail': 'https://b.thumbs.redditmedia.com/kjJN-4fVymnODNxdEfVGLtaWHeBfjPybtKKkkOK0IpU.jpg', 'title': 'I made a PowerPoint on Guru Randhawa’s song. This feee time I thought I’d spread some smiles. Hope you like it!', 'url': 'https://v.redd.it/c1pzelttonr41'}\n",
      "{'author_flair_text': None, 'created_utc': 1586207610, 'full_link': 'https://www.reddit.com/r/india/comments/fw762m/muslim_woman_in_bangalore_attacked_by_goons_for/', 'over_18': False, 'thumbnail': 'https://b.thumbs.redditmedia.com/G9B800C6Qcjd_GcTxIUYfT5-xdt4gyNJmNtmAXWmhqs.jpg', 'title': 'Muslim woman in Bangalore attacked by goons for distributing ration', 'url': 'https://youtu.be/_kVijZpG8YI'}\n",
      "{'author_flair_text': None, 'created_utc': 1586101383, 'full_link': 'https://www.reddit.com/r/india/comments/fvfqs2/fuck_this_our_country_will_never_learn/', 'over_18': False, 'thumbnail': 'self', 'title': 'Fuck this. Our country will never learn.', 'url': 'https://www.reddit.com/r/india/comments/fvfqs2/fuck_this_our_country_will_never_learn/'}\n",
      "{'author_flair_text': None, 'created_utc': 1585978591, 'full_link': 'https://www.reddit.com/r/india/comments/fuo6n6/hindi_translated_video_of_vox_medias_why_we_must/', 'over_18': False, 'thumbnail': 'https://b.thumbs.redditmedia.com/R-FBrGXVeEOSYnh5eBDfQJL4lbRlxREI8nrMuwFLtMY.jpg', 'title': \"Hindi translated video of vox media's why we must wash our hands for 20 seconds with soap.\", 'url': 'https://youtu.be/v1MDpRHYv7M'}\n",
      "{'author_flair_text': None, 'created_utc': 1585842493, 'full_link': 'https://www.reddit.com/r/india/comments/ftonab/fake_arnab_goswami_twitter_handle_with_56k/', 'over_18': False, 'thumbnail': 'https://b.thumbs.redditmedia.com/Cw2Xq55yDbdKQIcAIu6ihlyG1YULKzjv_bKs4pdSyoo.jpg', 'title': 'Fake Arnab Goswami twitter handle with 56k followers and over 50K tweets', 'url': 'https://www.reddit.com/r/india/comments/ftonab/fake_arnab_goswami_twitter_handle_with_56k/'}\n",
      "{'author_flair_text': None, 'created_utc': 1585721121, 'full_link': 'https://www.reddit.com/r/india/comments/fsty81/indianorigin_virologist_in_south_africa_dies_of/', 'over_18': False, 'thumbnail': 'https://a.thumbs.redditmedia.com/IAFdSHn3XQEFTzTFt0V_jjtBUFg9qk43mXSOqdKwIe0.jpg', 'title': 'Indian-Origin Virologist In South Africa Dies Of Coronavirus Complications', 'url': 'https://www.ndtv.com/indians-abroad/coronavirus-in-south-africa-indian-origin-virologist-gita-ramjee-in-south-africa-dies-of-covid-19-2203933'}\n",
      "{'author_flair_text': None, 'created_utc': 1585571443, 'full_link': 'https://www.reddit.com/r/india/comments/frpwz1/pti_darul_uloom_offers_one_of_its_buildings_to/', 'over_18': False, 'thumbnail': 'default', 'title': 'PTI Darul Uloom offers one of its buildings to serve as isolation ward for COVID-19 patients', 'url': 'https://www.outlookindia.com/newsscroll/darul-uloom-offers-one-of-its-buildings-to-serve-as-isolation-ward-for-covid19-patients/1785112'}\n",
      "{'author_flair_text': None, 'created_utc': 1585442890, 'full_link': 'https://www.reddit.com/r/india/comments/fqwhxa/textbooks_for_disadvantaged_students_in_madhya/', 'over_18': False, 'thumbnail': 'self', 'title': 'Textbooks for Disadvantaged Students in Madhya Pradesh', 'url': 'https://www.reddit.com/r/india/comments/fqwhxa/textbooks_for_disadvantaged_students_in_madhya/'}\n",
      "{'author_flair_text': None, 'created_utc': 1585312314, 'full_link': 'https://www.reddit.com/r/india/comments/fpw4nl/coronavirus_uk_prime_minister_boris_johnson_tests/', 'over_18': False, 'thumbnail': 'https://b.thumbs.redditmedia.com/reJhgVbdusw50jHlra7rDbKwDNWfJaPsUOfCSqO9Pdc.jpg', 'title': 'Coronavirus : UK Prime Minister Boris Johnson tests positive', 'url': 'https://www.bbc.com/news/uk-52060791'}\n",
      "{'author_flair_text': None, 'created_utc': 1585161174, 'full_link': 'https://www.reddit.com/r/india/comments/fovh4n/salesforce_online_training_in_india_salesforce/', 'over_18': False, 'thumbnail': 'https://b.thumbs.redditmedia.com/uRM7VHbjBmLU6HJsrFuAPZfKka0N6xfhARsyBO_XQuA.jpg', 'title': 'Salesforce Online Training in India, Salesforce Online Training in Hyderabad, Salesforce Online Training in Hyderabad India', 'url': 'http://www.revanthtechnologies.com/salesforce-online-training-from-india.php'}\n"
     ]
    },
    {
     "ename": "KeyboardInterrupt",
     "evalue": "",
     "output_type": "error",
     "traceback": [
      "\u001b[0;31m---------------------------------------------------------------------------\u001b[0m",
      "\u001b[0;31mKeyboardInterrupt\u001b[0m                         Traceback (most recent call last)",
      "\u001b[0;32m<ipython-input-4-65cbe2db7f07>\u001b[0m in \u001b[0;36m<module>\u001b[0;34m\u001b[0m\n\u001b[1;32m      1\u001b[0m \u001b[0;32mwhile\u001b[0m \u001b[0;32mTrue\u001b[0m\u001b[0;34m:\u001b[0m\u001b[0;34m\u001b[0m\u001b[0;34m\u001b[0m\u001b[0m\n\u001b[0;32m----> 2\u001b[0;31m     \u001b[0mresponse\u001b[0m\u001b[0;34m=\u001b[0m\u001b[0mrequests\u001b[0m\u001b[0;34m.\u001b[0m\u001b[0mget\u001b[0m\u001b[0;34m(\u001b[0m\u001b[0murl\u001b[0m\u001b[0;34m,\u001b[0m\u001b[0mparams\u001b[0m\u001b[0;34m=\u001b[0m\u001b[0mparams\u001b[0m\u001b[0;34m)\u001b[0m\u001b[0;34m\u001b[0m\u001b[0;34m\u001b[0m\u001b[0m\n\u001b[0m\u001b[1;32m      3\u001b[0m     \u001b[0mres_data\u001b[0m \u001b[0;34m=\u001b[0m \u001b[0mjson\u001b[0m\u001b[0;34m.\u001b[0m\u001b[0mloads\u001b[0m\u001b[0;34m(\u001b[0m\u001b[0mresponse\u001b[0m\u001b[0;34m.\u001b[0m\u001b[0mtext\u001b[0m\u001b[0;34m)\u001b[0m\u001b[0;34m\u001b[0m\u001b[0;34m\u001b[0m\u001b[0m\n\u001b[1;32m      4\u001b[0m \u001b[0;34m\u001b[0m\u001b[0m\n\u001b[1;32m      5\u001b[0m     \u001b[0mprint\u001b[0m\u001b[0;34m(\u001b[0m\u001b[0mres_data\u001b[0m\u001b[0;34m[\u001b[0m\u001b[0;34m'data'\u001b[0m\u001b[0;34m]\u001b[0m\u001b[0;34m[\u001b[0m\u001b[0;34m-\u001b[0m\u001b[0;36m1\u001b[0m\u001b[0;34m]\u001b[0m\u001b[0;34m)\u001b[0m\u001b[0;34m\u001b[0m\u001b[0;34m\u001b[0m\u001b[0m\n",
      "\u001b[0;32m~/anaconda3/envs/in-task/lib/python3.7/site-packages/requests/api.py\u001b[0m in \u001b[0;36mget\u001b[0;34m(url, params, **kwargs)\u001b[0m\n\u001b[1;32m     73\u001b[0m \u001b[0;34m\u001b[0m\u001b[0m\n\u001b[1;32m     74\u001b[0m     \u001b[0mkwargs\u001b[0m\u001b[0;34m.\u001b[0m\u001b[0msetdefault\u001b[0m\u001b[0;34m(\u001b[0m\u001b[0;34m'allow_redirects'\u001b[0m\u001b[0;34m,\u001b[0m \u001b[0;32mTrue\u001b[0m\u001b[0;34m)\u001b[0m\u001b[0;34m\u001b[0m\u001b[0;34m\u001b[0m\u001b[0m\n\u001b[0;32m---> 75\u001b[0;31m     \u001b[0;32mreturn\u001b[0m \u001b[0mrequest\u001b[0m\u001b[0;34m(\u001b[0m\u001b[0;34m'get'\u001b[0m\u001b[0;34m,\u001b[0m \u001b[0murl\u001b[0m\u001b[0;34m,\u001b[0m \u001b[0mparams\u001b[0m\u001b[0;34m=\u001b[0m\u001b[0mparams\u001b[0m\u001b[0;34m,\u001b[0m \u001b[0;34m**\u001b[0m\u001b[0mkwargs\u001b[0m\u001b[0;34m)\u001b[0m\u001b[0;34m\u001b[0m\u001b[0;34m\u001b[0m\u001b[0m\n\u001b[0m\u001b[1;32m     76\u001b[0m \u001b[0;34m\u001b[0m\u001b[0m\n\u001b[1;32m     77\u001b[0m \u001b[0;34m\u001b[0m\u001b[0m\n",
      "\u001b[0;32m~/anaconda3/envs/in-task/lib/python3.7/site-packages/requests/api.py\u001b[0m in \u001b[0;36mrequest\u001b[0;34m(method, url, **kwargs)\u001b[0m\n\u001b[1;32m     58\u001b[0m     \u001b[0;31m# cases, and look like a memory leak in others.\u001b[0m\u001b[0;34m\u001b[0m\u001b[0;34m\u001b[0m\u001b[0;34m\u001b[0m\u001b[0m\n\u001b[1;32m     59\u001b[0m     \u001b[0;32mwith\u001b[0m \u001b[0msessions\u001b[0m\u001b[0;34m.\u001b[0m\u001b[0mSession\u001b[0m\u001b[0;34m(\u001b[0m\u001b[0;34m)\u001b[0m \u001b[0;32mas\u001b[0m \u001b[0msession\u001b[0m\u001b[0;34m:\u001b[0m\u001b[0;34m\u001b[0m\u001b[0;34m\u001b[0m\u001b[0m\n\u001b[0;32m---> 60\u001b[0;31m         \u001b[0;32mreturn\u001b[0m \u001b[0msession\u001b[0m\u001b[0;34m.\u001b[0m\u001b[0mrequest\u001b[0m\u001b[0;34m(\u001b[0m\u001b[0mmethod\u001b[0m\u001b[0;34m=\u001b[0m\u001b[0mmethod\u001b[0m\u001b[0;34m,\u001b[0m \u001b[0murl\u001b[0m\u001b[0;34m=\u001b[0m\u001b[0murl\u001b[0m\u001b[0;34m,\u001b[0m \u001b[0;34m**\u001b[0m\u001b[0mkwargs\u001b[0m\u001b[0;34m)\u001b[0m\u001b[0;34m\u001b[0m\u001b[0;34m\u001b[0m\u001b[0m\n\u001b[0m\u001b[1;32m     61\u001b[0m \u001b[0;34m\u001b[0m\u001b[0m\n\u001b[1;32m     62\u001b[0m \u001b[0;34m\u001b[0m\u001b[0m\n",
      "\u001b[0;32m~/anaconda3/envs/in-task/lib/python3.7/site-packages/requests/sessions.py\u001b[0m in \u001b[0;36mrequest\u001b[0;34m(self, method, url, params, data, headers, cookies, files, auth, timeout, allow_redirects, proxies, hooks, stream, verify, cert, json)\u001b[0m\n\u001b[1;32m    531\u001b[0m         }\n\u001b[1;32m    532\u001b[0m         \u001b[0msend_kwargs\u001b[0m\u001b[0;34m.\u001b[0m\u001b[0mupdate\u001b[0m\u001b[0;34m(\u001b[0m\u001b[0msettings\u001b[0m\u001b[0;34m)\u001b[0m\u001b[0;34m\u001b[0m\u001b[0;34m\u001b[0m\u001b[0m\n\u001b[0;32m--> 533\u001b[0;31m         \u001b[0mresp\u001b[0m \u001b[0;34m=\u001b[0m \u001b[0mself\u001b[0m\u001b[0;34m.\u001b[0m\u001b[0msend\u001b[0m\u001b[0;34m(\u001b[0m\u001b[0mprep\u001b[0m\u001b[0;34m,\u001b[0m \u001b[0;34m**\u001b[0m\u001b[0msend_kwargs\u001b[0m\u001b[0;34m)\u001b[0m\u001b[0;34m\u001b[0m\u001b[0;34m\u001b[0m\u001b[0m\n\u001b[0m\u001b[1;32m    534\u001b[0m \u001b[0;34m\u001b[0m\u001b[0m\n\u001b[1;32m    535\u001b[0m         \u001b[0;32mreturn\u001b[0m \u001b[0mresp\u001b[0m\u001b[0;34m\u001b[0m\u001b[0;34m\u001b[0m\u001b[0m\n",
      "\u001b[0;32m~/anaconda3/envs/in-task/lib/python3.7/site-packages/requests/sessions.py\u001b[0m in \u001b[0;36msend\u001b[0;34m(self, request, **kwargs)\u001b[0m\n\u001b[1;32m    644\u001b[0m \u001b[0;34m\u001b[0m\u001b[0m\n\u001b[1;32m    645\u001b[0m         \u001b[0;31m# Send the request\u001b[0m\u001b[0;34m\u001b[0m\u001b[0;34m\u001b[0m\u001b[0;34m\u001b[0m\u001b[0m\n\u001b[0;32m--> 646\u001b[0;31m         \u001b[0mr\u001b[0m \u001b[0;34m=\u001b[0m \u001b[0madapter\u001b[0m\u001b[0;34m.\u001b[0m\u001b[0msend\u001b[0m\u001b[0;34m(\u001b[0m\u001b[0mrequest\u001b[0m\u001b[0;34m,\u001b[0m \u001b[0;34m**\u001b[0m\u001b[0mkwargs\u001b[0m\u001b[0;34m)\u001b[0m\u001b[0;34m\u001b[0m\u001b[0;34m\u001b[0m\u001b[0m\n\u001b[0m\u001b[1;32m    647\u001b[0m \u001b[0;34m\u001b[0m\u001b[0m\n\u001b[1;32m    648\u001b[0m         \u001b[0;31m# Total elapsed time of the request (approximately)\u001b[0m\u001b[0;34m\u001b[0m\u001b[0;34m\u001b[0m\u001b[0;34m\u001b[0m\u001b[0m\n",
      "\u001b[0;32m~/anaconda3/envs/in-task/lib/python3.7/site-packages/requests/adapters.py\u001b[0m in \u001b[0;36msend\u001b[0;34m(self, request, stream, timeout, verify, cert, proxies)\u001b[0m\n\u001b[1;32m    447\u001b[0m                     \u001b[0mdecode_content\u001b[0m\u001b[0;34m=\u001b[0m\u001b[0;32mFalse\u001b[0m\u001b[0;34m,\u001b[0m\u001b[0;34m\u001b[0m\u001b[0;34m\u001b[0m\u001b[0m\n\u001b[1;32m    448\u001b[0m                     \u001b[0mretries\u001b[0m\u001b[0;34m=\u001b[0m\u001b[0mself\u001b[0m\u001b[0;34m.\u001b[0m\u001b[0mmax_retries\u001b[0m\u001b[0;34m,\u001b[0m\u001b[0;34m\u001b[0m\u001b[0;34m\u001b[0m\u001b[0m\n\u001b[0;32m--> 449\u001b[0;31m                     \u001b[0mtimeout\u001b[0m\u001b[0;34m=\u001b[0m\u001b[0mtimeout\u001b[0m\u001b[0;34m\u001b[0m\u001b[0;34m\u001b[0m\u001b[0m\n\u001b[0m\u001b[1;32m    450\u001b[0m                 )\n\u001b[1;32m    451\u001b[0m \u001b[0;34m\u001b[0m\u001b[0m\n",
      "\u001b[0;32m~/anaconda3/envs/in-task/lib/python3.7/site-packages/urllib3/connectionpool.py\u001b[0m in \u001b[0;36murlopen\u001b[0;34m(self, method, url, body, headers, retries, redirect, assert_same_host, timeout, pool_timeout, release_conn, chunked, body_pos, **response_kw)\u001b[0m\n\u001b[1;32m    598\u001b[0m                                                   \u001b[0mtimeout\u001b[0m\u001b[0;34m=\u001b[0m\u001b[0mtimeout_obj\u001b[0m\u001b[0;34m,\u001b[0m\u001b[0;34m\u001b[0m\u001b[0;34m\u001b[0m\u001b[0m\n\u001b[1;32m    599\u001b[0m                                                   \u001b[0mbody\u001b[0m\u001b[0;34m=\u001b[0m\u001b[0mbody\u001b[0m\u001b[0;34m,\u001b[0m \u001b[0mheaders\u001b[0m\u001b[0;34m=\u001b[0m\u001b[0mheaders\u001b[0m\u001b[0;34m,\u001b[0m\u001b[0;34m\u001b[0m\u001b[0;34m\u001b[0m\u001b[0m\n\u001b[0;32m--> 600\u001b[0;31m                                                   chunked=chunked)\n\u001b[0m\u001b[1;32m    601\u001b[0m \u001b[0;34m\u001b[0m\u001b[0m\n\u001b[1;32m    602\u001b[0m             \u001b[0;31m# If we're going to release the connection in ``finally:``, then\u001b[0m\u001b[0;34m\u001b[0m\u001b[0;34m\u001b[0m\u001b[0;34m\u001b[0m\u001b[0m\n",
      "\u001b[0;32m~/anaconda3/envs/in-task/lib/python3.7/site-packages/urllib3/connectionpool.py\u001b[0m in \u001b[0;36m_make_request\u001b[0;34m(self, conn, method, url, timeout, chunked, **httplib_request_kw)\u001b[0m\n\u001b[1;32m    341\u001b[0m         \u001b[0;31m# Trigger any extra validation we need to do.\u001b[0m\u001b[0;34m\u001b[0m\u001b[0;34m\u001b[0m\u001b[0;34m\u001b[0m\u001b[0m\n\u001b[1;32m    342\u001b[0m         \u001b[0;32mtry\u001b[0m\u001b[0;34m:\u001b[0m\u001b[0;34m\u001b[0m\u001b[0;34m\u001b[0m\u001b[0m\n\u001b[0;32m--> 343\u001b[0;31m             \u001b[0mself\u001b[0m\u001b[0;34m.\u001b[0m\u001b[0m_validate_conn\u001b[0m\u001b[0;34m(\u001b[0m\u001b[0mconn\u001b[0m\u001b[0;34m)\u001b[0m\u001b[0;34m\u001b[0m\u001b[0;34m\u001b[0m\u001b[0m\n\u001b[0m\u001b[1;32m    344\u001b[0m         \u001b[0;32mexcept\u001b[0m \u001b[0;34m(\u001b[0m\u001b[0mSocketTimeout\u001b[0m\u001b[0;34m,\u001b[0m \u001b[0mBaseSSLError\u001b[0m\u001b[0;34m)\u001b[0m \u001b[0;32mas\u001b[0m \u001b[0me\u001b[0m\u001b[0;34m:\u001b[0m\u001b[0;34m\u001b[0m\u001b[0;34m\u001b[0m\u001b[0m\n\u001b[1;32m    345\u001b[0m             \u001b[0;31m# Py2 raises this as a BaseSSLError, Py3 raises it as socket timeout.\u001b[0m\u001b[0;34m\u001b[0m\u001b[0;34m\u001b[0m\u001b[0;34m\u001b[0m\u001b[0m\n",
      "\u001b[0;32m~/anaconda3/envs/in-task/lib/python3.7/site-packages/urllib3/connectionpool.py\u001b[0m in \u001b[0;36m_validate_conn\u001b[0;34m(self, conn)\u001b[0m\n\u001b[1;32m    837\u001b[0m         \u001b[0;31m# Force connect early to allow us to validate the connection.\u001b[0m\u001b[0;34m\u001b[0m\u001b[0;34m\u001b[0m\u001b[0;34m\u001b[0m\u001b[0m\n\u001b[1;32m    838\u001b[0m         \u001b[0;32mif\u001b[0m \u001b[0;32mnot\u001b[0m \u001b[0mgetattr\u001b[0m\u001b[0;34m(\u001b[0m\u001b[0mconn\u001b[0m\u001b[0;34m,\u001b[0m \u001b[0;34m'sock'\u001b[0m\u001b[0;34m,\u001b[0m \u001b[0;32mNone\u001b[0m\u001b[0;34m)\u001b[0m\u001b[0;34m:\u001b[0m  \u001b[0;31m# AppEngine might not have  `.sock`\u001b[0m\u001b[0;34m\u001b[0m\u001b[0;34m\u001b[0m\u001b[0m\n\u001b[0;32m--> 839\u001b[0;31m             \u001b[0mconn\u001b[0m\u001b[0;34m.\u001b[0m\u001b[0mconnect\u001b[0m\u001b[0;34m(\u001b[0m\u001b[0;34m)\u001b[0m\u001b[0;34m\u001b[0m\u001b[0;34m\u001b[0m\u001b[0m\n\u001b[0m\u001b[1;32m    840\u001b[0m \u001b[0;34m\u001b[0m\u001b[0m\n\u001b[1;32m    841\u001b[0m         \u001b[0;32mif\u001b[0m \u001b[0;32mnot\u001b[0m \u001b[0mconn\u001b[0m\u001b[0;34m.\u001b[0m\u001b[0mis_verified\u001b[0m\u001b[0;34m:\u001b[0m\u001b[0;34m\u001b[0m\u001b[0;34m\u001b[0m\u001b[0m\n",
      "\u001b[0;32m~/anaconda3/envs/in-task/lib/python3.7/site-packages/urllib3/connection.py\u001b[0m in \u001b[0;36mconnect\u001b[0;34m(self)\u001b[0m\n\u001b[1;32m    299\u001b[0m     \u001b[0;32mdef\u001b[0m \u001b[0mconnect\u001b[0m\u001b[0;34m(\u001b[0m\u001b[0mself\u001b[0m\u001b[0;34m)\u001b[0m\u001b[0;34m:\u001b[0m\u001b[0;34m\u001b[0m\u001b[0;34m\u001b[0m\u001b[0m\n\u001b[1;32m    300\u001b[0m         \u001b[0;31m# Add certificate verification\u001b[0m\u001b[0;34m\u001b[0m\u001b[0;34m\u001b[0m\u001b[0;34m\u001b[0m\u001b[0m\n\u001b[0;32m--> 301\u001b[0;31m         \u001b[0mconn\u001b[0m \u001b[0;34m=\u001b[0m \u001b[0mself\u001b[0m\u001b[0;34m.\u001b[0m\u001b[0m_new_conn\u001b[0m\u001b[0;34m(\u001b[0m\u001b[0;34m)\u001b[0m\u001b[0;34m\u001b[0m\u001b[0;34m\u001b[0m\u001b[0m\n\u001b[0m\u001b[1;32m    302\u001b[0m         \u001b[0mhostname\u001b[0m \u001b[0;34m=\u001b[0m \u001b[0mself\u001b[0m\u001b[0;34m.\u001b[0m\u001b[0mhost\u001b[0m\u001b[0;34m\u001b[0m\u001b[0;34m\u001b[0m\u001b[0m\n\u001b[1;32m    303\u001b[0m \u001b[0;34m\u001b[0m\u001b[0m\n",
      "\u001b[0;32m~/anaconda3/envs/in-task/lib/python3.7/site-packages/urllib3/connection.py\u001b[0m in \u001b[0;36m_new_conn\u001b[0;34m(self)\u001b[0m\n\u001b[1;32m    157\u001b[0m         \u001b[0;32mtry\u001b[0m\u001b[0;34m:\u001b[0m\u001b[0;34m\u001b[0m\u001b[0;34m\u001b[0m\u001b[0m\n\u001b[1;32m    158\u001b[0m             conn = connection.create_connection(\n\u001b[0;32m--> 159\u001b[0;31m                 (self._dns_host, self.port), self.timeout, **extra_kw)\n\u001b[0m\u001b[1;32m    160\u001b[0m \u001b[0;34m\u001b[0m\u001b[0m\n\u001b[1;32m    161\u001b[0m         \u001b[0;32mexcept\u001b[0m \u001b[0mSocketTimeout\u001b[0m \u001b[0;32mas\u001b[0m \u001b[0me\u001b[0m\u001b[0;34m:\u001b[0m\u001b[0;34m\u001b[0m\u001b[0;34m\u001b[0m\u001b[0m\n",
      "\u001b[0;32m~/anaconda3/envs/in-task/lib/python3.7/site-packages/urllib3/util/connection.py\u001b[0m in \u001b[0;36mcreate_connection\u001b[0;34m(address, timeout, source_address, socket_options)\u001b[0m\n\u001b[1;32m     68\u001b[0m             \u001b[0;32mif\u001b[0m \u001b[0msource_address\u001b[0m\u001b[0;34m:\u001b[0m\u001b[0;34m\u001b[0m\u001b[0;34m\u001b[0m\u001b[0m\n\u001b[1;32m     69\u001b[0m                 \u001b[0msock\u001b[0m\u001b[0;34m.\u001b[0m\u001b[0mbind\u001b[0m\u001b[0;34m(\u001b[0m\u001b[0msource_address\u001b[0m\u001b[0;34m)\u001b[0m\u001b[0;34m\u001b[0m\u001b[0;34m\u001b[0m\u001b[0m\n\u001b[0;32m---> 70\u001b[0;31m             \u001b[0msock\u001b[0m\u001b[0;34m.\u001b[0m\u001b[0mconnect\u001b[0m\u001b[0;34m(\u001b[0m\u001b[0msa\u001b[0m\u001b[0;34m)\u001b[0m\u001b[0;34m\u001b[0m\u001b[0;34m\u001b[0m\u001b[0m\n\u001b[0m\u001b[1;32m     71\u001b[0m             \u001b[0;32mreturn\u001b[0m \u001b[0msock\u001b[0m\u001b[0;34m\u001b[0m\u001b[0;34m\u001b[0m\u001b[0m\n\u001b[1;32m     72\u001b[0m \u001b[0;34m\u001b[0m\u001b[0m\n",
      "\u001b[0;31mKeyboardInterrupt\u001b[0m: "
     ]
    }
   ],
   "source": [
    "while True:\n",
    "    response=requests.get(url,params=params)\n",
    "    res_data = json.loads(response.text)\n",
    "    \n",
    "    print(res_data['data'][-1])\n",
    "    params['before']=res_data['data'][-1][\"created_utc\"]\n",
    "    if res_data['data'][-1][\"created_utc\"] <1579376094:\n",
    "        break"
   ]
  },
  {
   "cell_type": "code",
   "execution_count": null,
   "metadata": {},
   "outputs": [],
   "source": [
    "res_data"
   ]
  },
  {
   "cell_type": "code",
   "execution_count": null,
   "metadata": {},
   "outputs": [],
   "source": []
  },
  {
   "cell_type": "code",
   "execution_count": null,
   "metadata": {},
   "outputs": [],
   "source": [
    "# "
   ]
  }
 ],
 "metadata": {
  "kernelspec": {
   "display_name": "Python 3",
   "language": "python",
   "name": "python3"
  },
  "language_info": {
   "codemirror_mode": {
    "name": "ipython",
    "version": 3
   },
   "file_extension": ".py",
   "mimetype": "text/x-python",
   "name": "python",
   "nbconvert_exporter": "python",
   "pygments_lexer": "ipython3",
   "version": "3.7.4"
  }
 },
 "nbformat": 4,
 "nbformat_minor": 2
}
